{
 "cells": [
  {
   "cell_type": "code",
   "execution_count": 1,
   "metadata": {},
   "outputs": [
    {
     "name": "stdout",
     "output_type": "stream",
     "text": [
      "nbdiff old new\n",
      "--- old  (no timestamp)\n",
      "+++ new  (no timestamp)\n",
      "\u001b[34m## inserted before /cells/0:\u001b[0m\n",
      "\u001b[32m+  code cell:\n",
      "\u001b[32m+    source:\n",
      "\u001b[32m+      #init\n",
      "\u001b[32m+      \n",
      "\u001b[32m+      #beta asdfghjk\n",
      "\n",
      "\u001b[0m\u001b[34m## deleted /cells/0:\u001b[0m\n",
      "\u001b[31m-  code cell:\n",
      "\u001b[31m-    source:\n",
      "\u001b[31m-      #init\n",
      "\u001b[31m-      \n",
      "\u001b[31m-      #Master\n",
      "\n",
      "\u001b[0m\u001b[34m## replaced (type changed from int to NoneType) /cells/1/execution_count:\u001b[0m\n",
      "\u001b[31m-  1\n",
      "\u001b[32m+  None\n",
      "\n",
      "\u001b[0m\u001b[34m## modified /cells/1/source:\u001b[0m\n",
      "\u001b[36m@@ -1 +1,2 @@\u001b[m\n",
      "\u001b[31m-x=1\u001b[m\n",
      "\u001b[32m+\u001b[m\u001b[32mx=2\u001b[m\n",
      "\u001b[32m+\u001b[m\u001b[32mx\u001b[m\n",
      "\u001b[m\n",
      "\n",
      "\u001b[0m\u001b[34m## replaced (type changed from int to NoneType) /cells/2/execution_count:\u001b[0m\n",
      "\u001b[31m-  3\n",
      "\u001b[32m+  None\n",
      "\n",
      "\u001b[0m\u001b[34m## modified /cells/2/source:\u001b[0m\n",
      "\u001b[36m@@ -1,2 +1,2 @@\u001b[m\n",
      "\u001b[31m-x=x+2\u001b[m\n",
      "\u001b[31m-x==3\u001b[m\n",
      "\u001b[m\n",
      "\u001b[32m+\u001b[m\u001b[32mx=x+5\u001b[m\n",
      "\u001b[32m+\u001b[m\u001b[32mx==7\u001b[m\n",
      "\u001b[m\n",
      "\n",
      "\u001b[0m\u001b[34m## replaced (type changed from int to NoneType) /cells/3/execution_count:\u001b[0m\n",
      "\u001b[31m-  4\n",
      "\u001b[32m+  None\n",
      "\n",
      "\u001b[0m\u001b[34m## inserted before /cells/4:\u001b[0m\n",
      "\u001b[32m+  code cell:\n",
      "\u001b[32m+    source:\n",
      "\u001b[32m+      #Cya World!\n",
      "\n",
      "\u001b[0m\u001b[34m## deleted /cells/4:\u001b[0m\n",
      "\u001b[31m-  code cell:\n",
      "\u001b[31m-    source:\n",
      "\u001b[31m-      #Hello World!\n",
      "\n",
      "\u001b[0m"
     ]
    }
   ],
   "source": [
    "from nbdime import diff_notebooks\n",
    "\n",
    "from nbdime.prettyprint import pretty_print_notebook_diff,PrettyPrintConfig\n",
    "\n",
    "import nbformat # changes\n",
    "\n",
    "def ignore_keys(diff, keys):\n",
    "  ret = []\n",
    "  for v in diff:\n",
    "    if v.key not in keys:\n",
    "      if 'diff' in v:\n",
    "        v.diff = ignore_keys(v.diff, keys)\n",
    "      ret.append(v)\n",
    "  return ret\n",
    "\n",
    "old = nbformat.read(\"Test1.ipynb\", as_version = nbformat.NO_CONVERT)\n",
    "\n",
    "new = nbformat.read(\"Test2.ipynb\", as_version = nbformat.NO_CONVERT)\n",
    "\n",
    "diff = ignore_keys(diff_notebooks(old, new), ['output','sources', 'outputs', 'attachments', 'metadata', 'details', 'codecell'])\n",
    "\n",
    "pretty_print_notebook_diff(\"old\", \"new\", old, diff) # hopefully this wont break it\n"
   ]
  },
  {
   "cell_type": "code",
   "execution_count": null,
   "metadata": {},
   "outputs": [],
   "source": []
  }
 ],
 "metadata": {
  "kernelspec": {
   "display_name": "Python 3",
   "language": "python",
   "name": "python3"
  },
  "language_info": {
   "codemirror_mode": {
    "name": "ipython",
    "version": 3
   },
   "file_extension": ".py",
   "mimetype": "text/x-python",
   "name": "python",
   "nbconvert_exporter": "python",
   "pygments_lexer": "ipython3",
   "version": "3.8.3"
  }
 },
 "nbformat": 4,
 "nbformat_minor": 4
}
