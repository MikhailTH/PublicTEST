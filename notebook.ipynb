#nothing to see here
x=x+y
x=3
print(y)
